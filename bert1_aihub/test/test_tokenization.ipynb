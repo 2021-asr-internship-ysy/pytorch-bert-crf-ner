{
 "cells": [
  {
   "cell_type": "code",
   "execution_count": 1,
   "source": [
    "from tokenization_morp import*\r\n",
    "import json\r\n",
    "\r\n",
    "BTK=BertTokenizer(\"/home/hoya/notebooks/syoung21.yoo/pytorch-bert-crf-ner/bert1_aihub/original/vocab.korean_morp_o.list\")\r\n",
    "BTK.vocab = load_vocab(\"/home/hoya/notebooks/syoung21.yoo/pytorch-bert-crf-ner/bert1_aihub/original/vocab.korean_morp_o.list\")\r\n",
    "BasicTK=BTK.basic_tokenizer\r\n",
    "wpTK=BTK.wordpiece_tokenizer \r\n",
    "#print(BertTK.vocab)\r\n",
    "\r\n",
    "\"\"\"\r\n",
    "with open(\"./vocab_test.json\", 'w', encoding=\"utf-8\") as vocab_file:\r\n",
    "    json.dump(wpTK.vocab, vocab_file, ensure_ascii=False)\r\n",
    "vocab_file.close()\r\n",
    "\"\"\"\r\n",
    "\r\n",
    "test_txt=open(\"/home/hoya/notebooks/syoung21.yoo/pytorch-bert-crf-ner/bert1_aihub/test/test_txt.txt\", \"r\")\r\n",
    "line = test_txt.readline()\r\n",
    "\r\n",
    "result1=BasicTK.tokenize(line)\r\n",
    "\"\"\"\r\n",
    "morp_result=[]\r\n",
    "for word in result1:\r\n",
    "    w_result=wpTK.tokenize(word)\r\n",
    "    for f in w_result:\r\n",
    "        morp_result.append(f)\r\n",
    "\"\"\"\r\n",
    "result2=BTK.tokenize(line)\r\n",
    "\r\n",
    "print(result1)\r\n",
    "print(result2)\r\n",
    "#print(morp_result)\r\n",
    "\r\n",
    "test_txt.close()"
   ],
   "outputs": [
    {
     "output_type": "stream",
     "name": "stdout",
     "text": [
      "a\n"
     ]
    }
   ],
   "metadata": {}
  },
  {
   "cell_type": "markdown",
   "source": [],
   "metadata": {}
  }
 ],
 "metadata": {
  "orig_nbformat": 4,
  "language_info": {
   "name": "python",
   "version": "3.8.8",
   "mimetype": "text/x-python",
   "codemirror_mode": {
    "name": "ipython",
    "version": 3
   },
   "pygments_lexer": "ipython3",
   "nbconvert_exporter": "python",
   "file_extension": ".py"
  },
  "kernelspec": {
   "name": "python3",
   "display_name": "Python 3.8.8 64-bit ('base': conda)"
  },
  "interpreter": {
   "hash": "68bde6b5d6e4cbc44c9083faf52a94364d04eceb43cbd27560b82d9974d46bc6"
  }
 },
 "nbformat": 4,
 "nbformat_minor": 2
}